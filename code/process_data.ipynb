{
 "cells": [
  {
   "cell_type": "code",
   "execution_count": 9,
   "metadata": {},
   "outputs": [],
   "source": [
    "import json\n",
    "import pickle\n",
    "from collections import OrderedDict\n",
    "ligands = json.load(open('E:/HNU/个人/湖大读博期间工作/my_paper/ai_series/ecai20/experiment/code/DeepGS/dataset/Davis/ligands_can.txt'), object_pairs_hook=OrderedDict)\n",
    "proteins_original = json.load(open('E:/HNU/个人/湖大读博期间工作/my_paper/ai_series/ecai20/experiment/code/DeepGS/dataset/Davis/proteins.txt'),object_pairs_hook=OrderedDict)\n",
    "Y = pickle.load(open('E:/HNU/个人/湖大读博期间工作/my_paper/ai_series/ecai20/experiment/code/DeepGS/dataset/Davis/Y', \"rb\"), encoding='latin1')"
   ]
  },
  {
   "cell_type": "code",
   "execution_count": 18,
   "metadata": {},
   "outputs": [
    {
     "data": {
      "text/plain": [
       "43.0"
      ]
     },
     "execution_count": 18,
     "metadata": {},
     "output_type": "execute_result"
    }
   ],
   "source": [
    "Y[0][0]"
   ]
  },
  {
   "cell_type": "code",
   "execution_count": 11,
   "metadata": {},
   "outputs": [],
   "source": [
    "with open(\"E:/HNU/个人/湖大读博期间工作/my_paper/ai_series/ecai20/experiment/code/DeepGS/dataset/Davis/input.txt\",\"w\") as file:\n",
    "    for no, ligand in enumerate(ligands.values()):\n",
    "        for nb,protein in enumerate(proteins_original.values()):\n",
    "            file.write(ligand+' ')\n",
    "            file.write(protein+' ')\n",
    "            file.write(str(Y[no][nb])+'\\n')"
   ]
  },
  {
   "cell_type": "code",
   "execution_count": null,
   "metadata": {},
   "outputs": [],
   "source": []
  }
 ],
 "metadata": {
  "kernelspec": {
   "display_name": "Python 3",
   "language": "python",
   "name": "python3"
  },
  "language_info": {
   "codemirror_mode": {
    "name": "ipython",
    "version": 3
   },
   "file_extension": ".py",
   "mimetype": "text/x-python",
   "name": "python",
   "nbconvert_exporter": "python",
   "pygments_lexer": "ipython3",
   "version": "3.7.4"
  }
 },
 "nbformat": 4,
 "nbformat_minor": 2
}
